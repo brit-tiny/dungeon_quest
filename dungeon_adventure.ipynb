{
 "cells": [
  {
   "cell_type": "markdown",
   "id": "54471718",
   "metadata": {},
   "source": [
    "# Dungeon Adventure Game - Instructions\n",
    "\n",
    "In this exercise, you will build a text-based dungeon adventure game in Python.\n",
    "\n",
    "You will apply everything you've learned so far, including:\n",
    "- Variables\n",
    "- Operators\n",
    "- Lists\n",
    "- Dictionaries\n",
    "- Loops\n",
    "- Conditionals\n",
    "- The `random` module\n",
    "\n",
    "Follow the prompts in each section to build your game step by step. By the end, you will have a fully functioning game where the player can explore rooms, search for treasure, avoid traps, and see their final score based on the treasures collected.\n",
    "\n",
    "Complete each section before moving on to the next.\n"
   ]
  },
  {
   "cell_type": "code",
   "execution_count": 1,
   "id": "eee84ad5",
   "metadata": {},
   "outputs": [],
   "source": [
    "import random\n",
    "# Step 1: Player Setup\n",
    "# Prompt the player for their name.\n",
    "name = input(\"Ho there, goodly Sir/Madam...Smadam/Mir? Doth thee have a name: \")\n",
    "# Set health to 10.\n",
    "health = 10\n",
    "# Create an empty list to store their inventory.\n",
    "inventory = []"
   ]
  },
  {
   "cell_type": "code",
   "execution_count": null,
   "id": "3a0aecec",
   "metadata": {},
   "outputs": [],
   "source": [
    "# Step 2: Treasure Dictionary\n",
    "# Create a dictionary of treasures where the keys are treasure names\n",
    "# and the values are the gold value of each treasure.\n",
    "treasures = {\n",
    "    \"Coconut Halves\": 10,\n",
    "    \"Shrubbery\": 5,\n",
    "    \"Sir Bedevere's Scales\": 50,\n",
    "    \"Holy Hand Grenade of Antioch\": 100,\n",
    "    \"The Holy Grail\": 200,\n",
    "    \"Book of Armaments\": 75,\n",
    "    \"Excalibur\": 150,\n",
    "    \"African Swallow\": 25,\n",
    "    \"European Swallow\": 25,\n",
    "    \"Lovely Filth\": 1,\n",
    "    \"Black Knight's Leg\": 15,\n",
    "    \"Black Knight's Arm\": 15\n",
    "}\n"
   ]
  },
  {
   "cell_type": "code",
   "execution_count": 6,
   "id": "1a24ddaf",
   "metadata": {},
   "outputs": [
    {
     "name": "stdout",
     "output_type": "stream",
     "text": [
      "\n",
      "Room 1\n",
      "\n",
      "Choose your action:\n",
      "1. Search for treasure\n",
      "2. Move to next room\n",
      "3. Check health and inventory\n",
      "4. Quit the game\n",
      "\n",
      "Choose your action:\n",
      "1. Search for treasure\n",
      "2. Move to next room\n",
      "3. Check health and inventory\n",
      "4. Quit the game\n",
      "\n",
      "Choose your action:\n",
      "1. Search for treasure\n",
      "2. Move to next room\n",
      "3. Check health and inventory\n",
      "4. Quit the game\n",
      "\n",
      "Choose your action:\n",
      "1. Search for treasure\n",
      "2. Move to next room\n",
      "3. Check health and inventory\n",
      "4. Quit the game\n",
      "\n",
      "Choose your action:\n",
      "1. Search for treasure\n",
      "2. Move to next room\n",
      "3. Check health and inventory\n",
      "4. Quit the game\n"
     ]
    },
    {
     "ename": "KeyboardInterrupt",
     "evalue": "Interrupted by user",
     "output_type": "error",
     "traceback": [
      "\u001b[31m---------------------------------------------------------------------------\u001b[39m",
      "\u001b[31mKeyboardInterrupt\u001b[39m                         Traceback (most recent call last)",
      "\u001b[36mCell\u001b[39m\u001b[36m \u001b[39m\u001b[32mIn[6]\u001b[39m\u001b[32m, line 12\u001b[39m\n\u001b[32m     10\u001b[39m         \u001b[38;5;28mprint\u001b[39m(\u001b[33m\"\u001b[39m\u001b[33m3. Check health and inventory\u001b[39m\u001b[33m\"\u001b[39m)\n\u001b[32m     11\u001b[39m         \u001b[38;5;28mprint\u001b[39m(\u001b[33m\"\u001b[39m\u001b[33m4. Quit the game\u001b[39m\u001b[33m\"\u001b[39m)\n\u001b[32m---> \u001b[39m\u001b[32m12\u001b[39m         choice = \u001b[38;5;28;43minput\u001b[39;49m\u001b[43m(\u001b[49m\u001b[33;43m\"\u001b[39;49m\u001b[33;43mEnter your choice (1-4): \u001b[39;49m\u001b[33;43m\"\u001b[39;49m\u001b[43m)\u001b[49m\n\u001b[32m     13\u001b[39m \u001b[38;5;66;03m# Make sure to handle each option appropriately.\u001b[39;00m\n\u001b[32m     14\u001b[39m \u001b[38;5;66;03m# Step 4: Implement treasure search\u001b[39;00m\n\u001b[32m     15\u001b[39m \u001b[38;5;66;03m# If the player chooses to search, randomly decide if they find treasure or a trap.\u001b[39;00m\n\u001b[32m     16\u001b[39m \u001b[38;5;66;03m# If treasure, randomly pick from the treasure dictionary and add to inventory.\u001b[39;00m\n\u001b[32m     17\u001b[39m \u001b[38;5;66;03m# If trap, deduct 2 health points and print a message.\u001b[39;00m\n\u001b[32m     18\u001b[39m     \u001b[38;5;28;01mif\u001b[39;00m choice == \u001b[33m\"\u001b[39m\u001b[33m1\u001b[39m\u001b[33m\"\u001b[39m:\n",
      "\u001b[36mFile \u001b[39m\u001b[32m~\\AppData\\Roaming\\Python\\Python313\\site-packages\\ipykernel\\kernelbase.py:1282\u001b[39m, in \u001b[36mKernel.raw_input\u001b[39m\u001b[34m(self, prompt)\u001b[39m\n\u001b[32m   1280\u001b[39m     msg = \u001b[33m\"\u001b[39m\u001b[33mraw_input was called, but this frontend does not support input requests.\u001b[39m\u001b[33m\"\u001b[39m\n\u001b[32m   1281\u001b[39m     \u001b[38;5;28;01mraise\u001b[39;00m StdinNotImplementedError(msg)\n\u001b[32m-> \u001b[39m\u001b[32m1282\u001b[39m \u001b[38;5;28;01mreturn\u001b[39;00m \u001b[38;5;28;43mself\u001b[39;49m\u001b[43m.\u001b[49m\u001b[43m_input_request\u001b[49m\u001b[43m(\u001b[49m\n\u001b[32m   1283\u001b[39m \u001b[43m    \u001b[49m\u001b[38;5;28;43mstr\u001b[39;49m\u001b[43m(\u001b[49m\u001b[43mprompt\u001b[49m\u001b[43m)\u001b[49m\u001b[43m,\u001b[49m\n\u001b[32m   1284\u001b[39m \u001b[43m    \u001b[49m\u001b[38;5;28;43mself\u001b[39;49m\u001b[43m.\u001b[49m\u001b[43m_parent_ident\u001b[49m\u001b[43m[\u001b[49m\u001b[33;43m\"\u001b[39;49m\u001b[33;43mshell\u001b[39;49m\u001b[33;43m\"\u001b[39;49m\u001b[43m]\u001b[49m\u001b[43m,\u001b[49m\n\u001b[32m   1285\u001b[39m \u001b[43m    \u001b[49m\u001b[38;5;28;43mself\u001b[39;49m\u001b[43m.\u001b[49m\u001b[43mget_parent\u001b[49m\u001b[43m(\u001b[49m\u001b[33;43m\"\u001b[39;49m\u001b[33;43mshell\u001b[39;49m\u001b[33;43m\"\u001b[39;49m\u001b[43m)\u001b[49m\u001b[43m,\u001b[49m\n\u001b[32m   1286\u001b[39m \u001b[43m    \u001b[49m\u001b[43mpassword\u001b[49m\u001b[43m=\u001b[49m\u001b[38;5;28;43;01mFalse\u001b[39;49;00m\u001b[43m,\u001b[49m\n\u001b[32m   1287\u001b[39m \u001b[43m\u001b[49m\u001b[43m)\u001b[49m\n",
      "\u001b[36mFile \u001b[39m\u001b[32m~\\AppData\\Roaming\\Python\\Python313\\site-packages\\ipykernel\\kernelbase.py:1325\u001b[39m, in \u001b[36mKernel._input_request\u001b[39m\u001b[34m(self, prompt, ident, parent, password)\u001b[39m\n\u001b[32m   1322\u001b[39m \u001b[38;5;28;01mexcept\u001b[39;00m \u001b[38;5;167;01mKeyboardInterrupt\u001b[39;00m:\n\u001b[32m   1323\u001b[39m     \u001b[38;5;66;03m# re-raise KeyboardInterrupt, to truncate traceback\u001b[39;00m\n\u001b[32m   1324\u001b[39m     msg = \u001b[33m\"\u001b[39m\u001b[33mInterrupted by user\u001b[39m\u001b[33m\"\u001b[39m\n\u001b[32m-> \u001b[39m\u001b[32m1325\u001b[39m     \u001b[38;5;28;01mraise\u001b[39;00m \u001b[38;5;167;01mKeyboardInterrupt\u001b[39;00m(msg) \u001b[38;5;28;01mfrom\u001b[39;00m\u001b[38;5;250m \u001b[39m\u001b[38;5;28;01mNone\u001b[39;00m\n\u001b[32m   1326\u001b[39m \u001b[38;5;28;01mexcept\u001b[39;00m \u001b[38;5;167;01mException\u001b[39;00m:\n\u001b[32m   1327\u001b[39m     \u001b[38;5;28mself\u001b[39m.log.warning(\u001b[33m\"\u001b[39m\u001b[33mInvalid Message:\u001b[39m\u001b[33m\"\u001b[39m, exc_info=\u001b[38;5;28;01mTrue\u001b[39;00m)\n",
      "\u001b[31mKeyboardInterrupt\u001b[39m: Interrupted by user"
     ]
    }
   ],
   "source": [
    "# Step 3: Game Loop - Moving through 5 rooms\n",
    "# Use a for loop to represent rooms 1 to 5.\n",
    "for room in range (1, 6):\n",
    "    print(f\"\\nRoom {room}\")\n",
    "# In each room, display the current room number and the options:\n",
    "    while True:\n",
    "        print(\"\\nChoose your action:\")\n",
    "        print(\"1. Search for treasure\")\n",
    "        print(\"2. Move to next room\")\n",
    "        print(\"3. Check health and inventory\")\n",
    "        print(\"4. Quit the game\")\n",
    "        choice = input(\"Enter your choice (1-4): \")\n",
    "# Make sure to handle each option appropriately.\n",
    "# Step 4: Implement treasure search\n",
    "# If the player chooses to search, randomly decide if they find treasure or a trap.\n",
    "# If treasure, randomly pick from the treasure dictionary and add to inventory.\n",
    "# If trap, deduct 2 health points and print a message.\n",
    "    if choice == \"1\":\n",
    "        print(\"Choice? We're living in a dictatorship...very well.\")\n",
    "        outcome = random.choice([\"treasure\", \"trap\"])\n",
    "        if outcome == \"treasure\":\n",
    "            found = random.choice(list(treasures.keys()))\n",
    "            inventory.append(found)\n",
    "            print(f\"What have you there? A {found} worth {treasures[found]} gold!\")\n",
    "        else:\n",
    "            health -= 2\n",
    "            print(\"Oh these are dark times! You lost 2 health points\")\n",
    "    elif choice == \"2\":\n",
    "        print (\"You and your trusty steed Patsy move to the next room.\")\n",
    "        break\n",
    "    elif choice == \"3\":\n",
    "        print(f\"Health: {health}\")\n",
    "        print(\"Inventory:\", inventory if inventory else \"Empty\")\n",
    "    elif choice == \"4\":\n",
    "        print(\"Run away, run away, run aawwaaay!\")\n",
    "        room = 5\n",
    "        break\n",
    "    else: \n",
    "        print(\"That was...a truly astonishing display of incompetence.\")\n",
    "\n",
    "\n",
    "# Step 5: Check health\n",
    "# If health drops to 0 or below, print a Game Over message and break the loop.\n",
    "    if health <= 0:\n",
    "        print(\"For heaven's sake! Your tomfoolery has ended your quest.\")\n",
    "        break\n",
    "if health <= 0 or choice ==\"4\":\n",
    "    break"
   ]
  },
  {
   "cell_type": "code",
   "execution_count": 7,
   "id": "39cc69d2",
   "metadata": {},
   "outputs": [
    {
     "ename": "SyntaxError",
     "evalue": "unterminated string literal (detected at line 10) (3821369278.py, line 10)",
     "output_type": "error",
     "traceback": [
      "  \u001b[36mCell\u001b[39m\u001b[36m \u001b[39m\u001b[32mIn[7]\u001b[39m\u001b[32m, line 10\u001b[39m\n\u001b[31m    \u001b[39m\u001b[31mprint(f\"Total Treasure Value: {total_value}\" gold\"\u001b[39m\n                                                     ^\n\u001b[31mSyntaxError\u001b[39m\u001b[31m:\u001b[39m unterminated string literal (detected at line 10)\n"
     ]
    }
   ],
   "source": [
    "# Step 6: End of Game Summary\n",
    "# If the player quits or finishes all rooms, calculate the total value of the collected treasures.\n",
    "# Loop through the inventory and sum the gold value using the treasure dictionary.\n",
    "# Print the final health, inventory, and total treasure value.\n",
    "total_value =sum(treasures[item] for item in inventory)\n",
    "print(\"\\n--- Game Summary ---\")\n",
    "print(f\"Knight {name}\")\n",
    "print(f\"Final Healty: {health}\")\n",
    "print(f\"Inventory: \", inventory if inventory else \"Empty\")\n",
    "print(f\"Total Treasure Value: {total_value}\" gold\" "
   ]
  }
 ],
 "metadata": {
  "kernelspec": {
   "display_name": "Python 3",
   "language": "python",
   "name": "python3"
  },
  "language_info": {
   "codemirror_mode": {
    "name": "ipython",
    "version": 3
   },
   "file_extension": ".py",
   "mimetype": "text/x-python",
   "name": "python",
   "nbconvert_exporter": "python",
   "pygments_lexer": "ipython3",
   "version": "3.13.4"
  }
 },
 "nbformat": 4,
 "nbformat_minor": 5
}
